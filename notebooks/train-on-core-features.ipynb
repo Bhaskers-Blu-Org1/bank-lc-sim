{
 "cells": [
  {
   "cell_type": "markdown",
   "metadata": {},
   "source": [
    "# Load Processed Data\n",
    "\n",
    "* This data was created by running the notebook prepare-data.ipynb"
   ]
  },
  {
   "cell_type": "code",
   "execution_count": 1,
   "metadata": {},
   "outputs": [
    {
     "name": "stdout",
     "output_type": "stream",
     "text": [
      "(1301293, 200)\n"
     ]
    }
   ],
   "source": [
    "import pickle, os\n",
    "\n",
    "home_dir = \"../data\"\n",
    "processed_data_pkl = os.path.join(home_dir, \"processed_data.pkl\")\n",
    "\n",
    "with open(processed_data_pkl, 'rb') as f:\n",
    "    data_df, exclude_features, analytics = pickle.load( f)\n",
    "\n",
    "print(data_df.shape)\n"
   ]
  },
  {
   "cell_type": "code",
   "execution_count": 2,
   "metadata": {},
   "outputs": [],
   "source": [
    "import pandas as pd\n",
    "import numpy as np\n",
    "import os\n",
    "import pickle\n",
    "\n",
    "import matplotlib.pyplot as plt\n",
    "import seaborn as sns\n",
    "sns.set_style('whitegrid')\n",
    "import warnings\n",
    "import gc\n",
    "warnings.simplefilter(action='ignore', category=FutureWarning)\n",
    "warnings.simplefilter(action='ignore', category=DeprecationWarning)\n",
    "%matplotlib inline"
   ]
  },
  {
   "cell_type": "markdown",
   "metadata": {},
   "source": [
    "## Some statistics"
   ]
  },
  {
   "cell_type": "code",
   "execution_count": 49,
   "metadata": {},
   "outputs": [
    {
     "data": {
      "image/png": "[encoded data removed]",
      "text/plain": [
       "<Figure size 432x288 with 1 Axes>"
      ]
     },
     "metadata": {
      "needs_background": "light"
     },
     "output_type": "display_data"
    }
   ],
   "source": [
    "short_df = data_df.loc[data_df['term']<0.5,:]\n",
    "\n",
    "plt = short_df['LifeOfLoan'].hist(cumulative=False, density=1, bins=36)\n",
    "plt.title.set_text(\"Life of Loan for 36M loans\")"
   ]
  },
  {
   "cell_type": "code",
   "execution_count": 50,
   "metadata": {},
   "outputs": [
    {
     "data": {
      "image/png": "[encoded data removed]",
      "text/plain": [
       "<Figure size 432x288 with 1 Axes>"
      ]
     },
     "metadata": {
      "needs_background": "light"
     },
     "output_type": "display_data"
    }
   ],
   "source": [
    "long_df = data_df.loc[data_df['term']>0.5,:]\n",
    "\n",
    "plt = long_df['LifeOfLoan'].hist(cumulative=False, density=1, bins=60)\n",
    "plt.title.set_text(\"Life of Loan for 60M loans\")\n"
   ]
  },
  {
   "cell_type": "code",
   "execution_count": 51,
   "metadata": {},
   "outputs": [
    {
     "name": "stdout",
     "output_type": "stream",
     "text": [
      "5.31 30.99\n"
     ]
    },
    {
     "data": {
      "image/png": "[encoded data removed]",
      "text/plain": [
       "<Figure size 432x288 with 1 Axes>"
      ]
     },
     "metadata": {
      "needs_background": "light"
     },
     "output_type": "display_data"
    }
   ],
   "source": [
    "plt = data_df['int_rate'].hist(bins=20)\n",
    "plt.title.set_text(\"Interest Rates\")\n",
    "print(data_df.int_rate.min(), data_df.int_rate.max())"
   ]
  },
  {
   "cell_type": "code",
   "execution_count": 52,
   "metadata": {},
   "outputs": [],
   "source": [
    "del short_df\n",
    "del long_df"
   ]
  },
  {
   "cell_type": "code",
   "execution_count": 53,
   "metadata": {},
   "outputs": [],
   "source": [
    "from matplotlib import rcParams\n",
    "\n",
    "# figure size in inches\n",
    "rcParams['figure.figsize'] = 20, 10\n",
    "rcParams['font.size'] = 22\n",
    "\n",
    "from sklearn.ensemble import RandomForestClassifier\n",
    "from sklearn.model_selection import cross_val_score, cross_val_predict\n",
    "from sklearn.metrics import accuracy_score, classification_report, confusion_matrix\n",
    "from sklearn.model_selection import train_test_split"
   ]
  },
  {
   "cell_type": "code",
   "execution_count": 54,
   "metadata": {},
   "outputs": [],
   "source": [
    "def print_score(clf, X_train, y_train, X_test, y_test, train=False, plot_features=False, features=None):\n",
    "    if train:\n",
    "        print(\"Train Result:\\n\")\n",
    "        print(\"accuracy score: {0:.4f}\\n\".format(accuracy_score(y_train, clf.predict(X_train))))\n",
    "        print(\"Classification Report: \\n {}\\n\".format(classification_report(y_train, clf.predict(X_train))))\n",
    "        print(\"Confusion Matrix: \\n {}\\n\".format(confusion_matrix(y_train, clf.predict(X_train))))\n",
    "\n",
    "        res = cross_val_score(clf, X_train, y_train, cv=10, scoring='accuracy')\n",
    "        print(\"Average Accuracy: \\t {0:.4f}\".format(np.mean(res)))\n",
    "        print(\"Accuracy SD: \\t\\t {0:.4f}\".format(np.std(res)))\n",
    "        \n",
    "    elif train==False:\n",
    "        print(\"Test Result:\\n\")        \n",
    "        print(\"accuracy score: {0:.4f}\\n\".format(accuracy_score(y_test, clf.predict(X_test))))\n",
    "        print(\"Classification Report: \\n {}\\n\".format(classification_report(y_test, clf.predict(X_test))))\n",
    "        print(\"Confusion Matrix: \\n {}\\n\".format(confusion_matrix(y_test, clf.predict(X_test))))  \n",
    "        \n",
    "    if plot_features and features is not None:\n",
    "        # Get top features\n",
    "        feature_importances = pd.DataFrame(clf.feature_importances_, \n",
    "                                   index = features,\n",
    "                                   columns=['importance']).\\\n",
    "                                   sort_values('importance',ascending=False)\n",
    "        # Plot\n",
    "        feature_importances.iloc[:10,:].plot(kind='barh')\n",
    "        plt.show()"
   ]
  },
  {
   "cell_type": "code",
   "execution_count": 55,
   "metadata": {},
   "outputs": [],
   "source": [
    "def train_and_score(data_train, data_test, features, target, score=False, plot_features=False):\n",
    "    \n",
    "    print(\"Extracting train and test data\")\n",
    "    \n",
    "    X_train = data_train[features]\n",
    "    y_train = data_train[target]\n",
    "    \n",
    "    print('\\tX_train shape: {} \\t y_train shape: {}'.format(X_train.shape, y_train.shape))\n",
    "\n",
    "    X_test = data_test[features]\n",
    "    y_test = data_test[target]\n",
    "    \n",
    "    print('\\tX_test  shape: {} \\t y_test  shape: {}'.format(X_test.shape, y_test.shape))\n",
    "\n",
    "    # Train Loan Acceptance classifier\n",
    "    print(\"Training classifier\")\n",
    "    acceptance_classifier = RandomForestClassifier(n_estimators=40, random_state=21, class_weight=None)\n",
    "    out = acceptance_classifier.fit(X_train, y_train)\n",
    "    print(out)\n",
    "    \n",
    "    if score:\n",
    "        print_score(acceptance_classifier, \n",
    "                X_train, y_train, \n",
    "                X_test,  y_test , train=False, plot_features=plot_features)\n",
    "    \n",
    "    return acceptance_classifier"
   ]
  },
  {
   "cell_type": "markdown",
   "metadata": {},
   "source": [
    "# Generate train, test, and validate sets"
   ]
  },
  {
   "cell_type": "code",
   "execution_count": 56,
   "metadata": {},
   "outputs": [
    {
     "name": "stdout",
     "output_type": "stream",
     "text": [
      "Number of loans in Train    set: 553049\n",
      "Number of loans in Test     set: 97597\n",
      "Number of loans in Validate set: 650647\n"
     ]
    }
   ],
   "source": [
    "# split validate set\n",
    "v_size = 0.5\n",
    "idx, idx_validate = \\\n",
    "            train_test_split(data_df.index, test_size=v_size, random_state=101)\n",
    "\n",
    "# split train / test sets\n",
    "test_size = 0.15\n",
    "idx_train, idx_test = \\\n",
    "            train_test_split(idx, test_size=test_size)\n",
    "\n",
    "# Define train, test, and validate df\n",
    "train_df    = data_df.loc[idx_train, :]\n",
    "test_df     = data_df.loc[idx_test, :]\n",
    "validate_df = data_df.loc[idx_validate, :]\n",
    "\n",
    "print(\"Number of loans in Train    set: {}\".format(train_df.shape[0]))\n",
    "print(\"Number of loans in Test     set: {}\".format(test_df.shape[0]))\n",
    "print(\"Number of loans in Validate set: {}\".format(validate_df.shape[0]))"
   ]
  },
  {
   "cell_type": "markdown",
   "metadata": {},
   "source": [
    "# Train classifier\n",
    "\n",
    "## Use core features"
   ]
  },
  {
   "cell_type": "code",
   "execution_count": 57,
   "metadata": {},
   "outputs": [
    {
     "name": "stdout",
     "output_type": "stream",
     "text": [
      "['loan_amnt', 'term', 'emp_length', 'annual_inc', 'dti', 'earliest_cr_line_age', 'sub_grade_A1', 'sub_grade_A2', 'sub_grade_A3', 'sub_grade_A4', 'sub_grade_A5', 'sub_grade_B1', 'sub_grade_B2', 'sub_grade_B3', 'sub_grade_B4', 'sub_grade_B5', 'sub_grade_C1', 'sub_grade_C2', 'sub_grade_C3', 'sub_grade_C4', 'sub_grade_C5', 'sub_grade_D1', 'sub_grade_D2', 'sub_grade_D3', 'sub_grade_D4', 'sub_grade_D5', 'sub_grade_E1', 'sub_grade_E2', 'sub_grade_E3', 'sub_grade_E4', 'sub_grade_E5', 'sub_grade_F1', 'sub_grade_F2', 'sub_grade_F3', 'sub_grade_F4', 'sub_grade_F5', 'sub_grade_G1', 'sub_grade_G2', 'sub_grade_G3', 'sub_grade_G4', 'sub_grade_G5', 'home_ownership_ANY', 'home_ownership_MORTGAGE', 'home_ownership_NONE', 'home_ownership_OTHER', 'home_ownership_OWN', 'home_ownership_RENT', 'verification_status_Not Verified', 'verification_status_Source Verified', 'verification_status_Verified', 'purpose_car', 'purpose_credit_card', 'purpose_debt_consolidation', 'purpose_educational', 'purpose_home_improvement', 'purpose_house', 'purpose_major_purchase', 'purpose_medical', 'purpose_moving', 'purpose_other', 'purpose_renewable_energy', 'purpose_small_business', 'purpose_vacation', 'purpose_wedding', 'addr_state_AK', 'addr_state_AL', 'addr_state_AR', 'addr_state_AZ', 'addr_state_CA', 'addr_state_CO', 'addr_state_CT', 'addr_state_DC', 'addr_state_DE', 'addr_state_FL', 'addr_state_GA', 'addr_state_HI', 'addr_state_IA', 'addr_state_ID', 'addr_state_IL', 'addr_state_IN', 'addr_state_KS', 'addr_state_KY', 'addr_state_LA', 'addr_state_MA', 'addr_state_MD', 'addr_state_ME', 'addr_state_MI', 'addr_state_MN', 'addr_state_MO', 'addr_state_MS', 'addr_state_MT', 'addr_state_NC', 'addr_state_ND', 'addr_state_NE', 'addr_state_NH', 'addr_state_NJ', 'addr_state_NM', 'addr_state_NV', 'addr_state_NY', 'addr_state_OH', 'addr_state_OK', 'addr_state_OR', 'addr_state_PA', 'addr_state_RI', 'addr_state_SC', 'addr_state_SD', 'addr_state_TN', 'addr_state_TX', 'addr_state_UT', 'addr_state_VA', 'addr_state_VT', 'addr_state_WA', 'addr_state_WI', 'addr_state_WV', 'addr_state_WY']\n"
     ]
    }
   ],
   "source": [
    "# features to delete\n",
    "\n",
    "features_to_delete = [ \n",
    "    'acc_now_delinq', 'acc_open_past_24mths', 'application_type', 'avg_cur_bal',\n",
    "    'bc_open_to_buy', 'bc_util', 'chargeoff_within_12_mths',\n",
    "    'collections_12_mths_ex_med', \n",
    "    'disbursement_method',\n",
    "    'delinq_2yrs', 'delinq_amnt',   \n",
    "    'initial_list_status',\n",
    "    'inq_last_6mths',  'mort_acc', \n",
    "    'mo_sin_old_il_acct', 'mo_sin_old_rev_tl_op', 'mo_sin_rcnt_rev_tl_op', 'mo_sin_rcnt_tl',\n",
    "    'mths_since_recent_bc', 'mths_since_recent_inq',\n",
    "    'num_bc_sats', 'num_bc_tl', 'num_il_tl', 'num_op_rev_tl', 'num_rev_accts', 'num_rev_tl_bal_gt_0', \n",
    "    'num_sats', 'num_tl_120dpd_2m', 'num_tl_30dpd', 'num_tl_90g_dpd_24m', 'num_tl_op_past_12m',\n",
    "    'num_accts_ever_120_pd','num_actv_bc_tl', 'num_actv_rev_tl',\n",
    "    'open_acc', \n",
    "    'pct_tl_nvr_dlq', 'percent_bc_gt_75', 'policy_code', 'pub_rec',  'pub_rec_bankruptcies', \n",
    "    'revol_bal', 'revol_util',\n",
    "    'tax_liens',\n",
    "    'tot_coll_amt', 'tot_cur_bal', 'tot_hi_cred_lim', 'total_acc', 'total_bal_ex_mort',\n",
    "    'total_bc_limit', 'total_il_high_credit_limit',  'total_rev_hi_lim'\n",
    "]\n",
    "all_features  = all_features = [col for col in data_df.columns if col not in exclude_features and col not in analytics]\n",
    "core_features = [col for col in all_features if col not in features_to_delete]\n",
    "\n",
    "print(core_features)"
   ]
  },
  {
   "cell_type": "code",
   "execution_count": 58,
   "metadata": {},
   "outputs": [
    {
     "name": "stdout",
     "output_type": "stream",
     "text": [
      "Extracting train and test data\n",
      "\tX_train shape: (553049, 115) \t y_train shape: (553049,)\n",
      "\tX_test  shape: (97597, 115) \t y_test  shape: (97597,)\n",
      "Training classifier\n",
      "RandomForestClassifier(bootstrap=True, class_weight=None, criterion='gini',\n",
      "                       max_depth=None, max_features='auto', max_leaf_nodes=None,\n",
      "                       min_impurity_decrease=0.0, min_impurity_split=None,\n",
      "                       min_samples_leaf=1, min_samples_split=2,\n",
      "                       min_weight_fraction_leaf=0.0, n_estimators=40,\n",
      "                       n_jobs=None, oob_score=False, random_state=21, verbose=0,\n",
      "                       warm_start=False)\n",
      "Test Result:\n",
      "\n",
      "accuracy score: 0.7991\n",
      "\n",
      "Classification Report: \n",
      "               precision    recall  f1-score   support\n",
      "\n",
      "         0.0       0.81      0.98      0.89     78140\n",
      "         1.0       0.48      0.08      0.13     19457\n",
      "\n",
      "    accuracy                           0.80     97597\n",
      "   macro avg       0.64      0.53      0.51     97597\n",
      "weighted avg       0.74      0.80      0.74     97597\n",
      "\n",
      "\n",
      "Confusion Matrix: \n",
      " [[76486  1654]\n",
      " [17952  1505]]\n",
      "\n"
     ]
    }
   ],
   "source": [
    "# Set optional arguments\n",
    "options = {\n",
    "    'score':         True, \n",
    "    'plot_features': True\n",
    "}\n",
    "\n",
    "\n",
    "# Train classifier with balanced core features\n",
    "clf_core = train_and_score(train_df, test_df, core_features, 'LoanStatus', **options )"
   ]
  },
  {
   "cell_type": "code",
   "execution_count": 65,
   "metadata": {},
   "outputs": [
    {
     "data": {
      "text/plain": [
       "<matplotlib.axes._subplots.AxesSubplot at 0x17ec09a8e48>"
      ]
     },
     "execution_count": 65,
     "metadata": {},
     "output_type": "execute_result"
    },
    {
     "data": {
      "image/png": "[encoded data removed]",
      "text/plain": [
       "<Figure size 1440x720 with 1 Axes>"
      ]
     },
     "metadata": {
      "needs_background": "light"
     },
     "output_type": "display_data"
    }
   ],
   "source": [
    "# Get top features\n",
    "feature_importances = pd.DataFrame(clf_core.feature_importances_, \n",
    "                           index = core_features,\n",
    "                           columns=['importance']).\\\n",
    "                           sort_values('importance',ascending=False)\n",
    "# Plot\n",
    "feature_importances.iloc[:6,:].plot(kind='barh')\n"
   ]
  },
  {
   "cell_type": "code",
   "execution_count": 77,
   "metadata": {},
   "outputs": [],
   "source": [
    "test_df.loc[:,'CO_score'] = clf_core.predict_proba(test_df.loc[:,core_features])[:,1]\n",
    "test_df.loc[:,'FP_score'] = clf_core.predict_proba(test_df.loc[:,core_features])[:,0]"
   ]
  },
  {
   "cell_type": "code",
   "execution_count": 83,
   "metadata": {},
   "outputs": [],
   "source": [
    "fp_df = test_df.loc[test_df['LoanStatus'] < 0.5, :]\n",
    "co_df = test_df.loc[test_df['LoanStatus'] > 0.5, :]\n"
   ]
  },
  {
   "cell_type": "code",
   "execution_count": 100,
   "metadata": {},
   "outputs": [
    {
     "name": "stdout",
     "output_type": "stream",
     "text": [
      "78140\n",
      "19457\n"
     ]
    }
   ],
   "source": [
    "print(fp_df.shape[0])\n",
    "print(co_df.shape[0])"
   ]
  },
  {
   "cell_type": "code",
   "execution_count": 125,
   "metadata": {},
   "outputs": [
    {
     "name": "stdout",
     "output_type": "stream",
     "text": [
      "\n",
      "Default Score 0.375\n",
      "\tTP   69733 \tFN   6639\n",
      "\tFP   14184 \tTN   4359\n",
      "\n",
      "Default Score 0.3125\n",
      "\tTP   65054 \tFN  13086\n",
      "\tFP   12157 \tTN   7300\n",
      "\n",
      "Default Score 0.25\n",
      "\tTP   54315 \tFN  19691\n",
      "\tFP    8656 \tTN   9537\n",
      "\n",
      "Default Score 0.1875\n",
      "\tTP   44723 \tFN  33417\n",
      "\tFP    6158 \tTN  13299\n",
      "\n",
      "Default Score 0.125\n",
      "\tTP   26859 \tFN  45060\n",
      "\tFP    2683 \tTN  15718\n"
     ]
    }
   ],
   "source": [
    "test = np.linspace(0.625, 0.875, 5)\n",
    "\n",
    "for t in test:\n",
    "    print(\"\\nDefault Score\",1- t)\n",
    "    print(\"\\tTP  {0:6d} \\tFN {1:6d}\".format(fp_df.loc[fp_df['FP_score']>t,'FP_score'].count(), fp_df.loc[fp_df['FP_score']<t,'FP_score'].count() ))\n",
    "\n",
    "    print(\"\\tFP  {0:6d} \\tTN {1:6d}\".format(co_df.loc[co_df['FP_score']>t,'CO_score'].count(), co_df.loc[co_df['FP_score']<t,'CO_score'].count()))"
   ]
  },
  {
   "cell_type": "code",
   "execution_count": 112,
   "metadata": {},
   "outputs": [
    {
     "data": {
      "text/plain": [
       "<matplotlib.axes._subplots.AxesSubplot at 0x17f1ae4f608>"
      ]
     },
     "execution_count": 112,
     "metadata": {},
     "output_type": "execute_result"
    },
    {
     "data": {
      "image/png": "[encoded data removed]",
      "text/plain": [
       "<Figure size 1440x720 with 1 Axes>"
      ]
     },
     "metadata": {
      "needs_background": "light"
     },
     "output_type": "display_data"
    }
   ],
   "source": [
    "fp_df['FP_score'].hist(cumulative=True, bins=20)\n",
    "co_df['FP_score'].hist(cumulative=True, bins=20)"
   ]
  },
  {
   "cell_type": "code",
   "execution_count": 90,
   "metadata": {},
   "outputs": [
    {
     "data": {
      "text/plain": [
       "<matplotlib.axes._subplots.AxesSubplot at 0x17ecad55ac8>"
      ]
     },
     "execution_count": 90,
     "metadata": {},
     "output_type": "execute_result"
    },
    {
     "data": {
      "image/png": "[encoded data removed]",
      "text/plain": [
       "<Figure size 1440x720 with 1 Axes>"
      ]
     },
     "metadata": {
      "needs_background": "light"
     },
     "output_type": "display_data"
    }
   ],
   "source": [
    "fp_df['CO_score'].hist(cumulative=True, bins=20)\n",
    "co_df['CO_score'].hist(cumulative=True, bins=20)"
   ]
  },
  {
   "cell_type": "code",
   "execution_count": 12,
   "metadata": {},
   "outputs": [],
   "source": [
    "charge_off_classifier_core_pkl = os.path.join(home_dir, \"co_clf_core.pkl\")\n",
    "\n",
    "with open(charge_off_classifier_core_pkl,'wb') as f:\n",
    "    pickle.dump((data_df, idx_train, idx_test, idx_validate, clf_core, core_features, analytics), f)"
   ]
  },
  {
   "cell_type": "code",
   "execution_count": null,
   "metadata": {},
   "outputs": [],
   "source": []
  }
 ],
 "metadata": {
  "kernelspec": {
   "display_name": "Python 3",
   "language": "python",
   "name": "python3"
  },
  "language_info": {
   "codemirror_mode": {
    "name": "ipython",
    "version": 3
   },
   "file_extension": ".py",
   "mimetype": "text/x-python",
   "name": "python",
   "nbconvert_exporter": "python",
   "pygments_lexer": "ipython3",
   "version": "3.7.4"
  }
 },
 "nbformat": 4,
 "nbformat_minor": 2
}
